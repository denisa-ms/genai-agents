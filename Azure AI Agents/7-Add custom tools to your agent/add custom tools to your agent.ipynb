{
 "cells": [
  {
   "cell_type": "code",
   "execution_count": 13,
   "metadata": {},
   "outputs": [],
   "source": [
    "# ------------------------------------\n",
    "# Copyright (c) Microsoft Corporation.\n",
    "# Licensed under the MIT License.\n",
    "# ------------------------------------\n",
    "\n",
    "\"\"\"\n",
    "DESCRIPTION:\n",
    "    This sample demonstrates how to use agent operations with the \n",
    "    Azure AI Search tool from the Azure Agents service using a synchronous client.\n",
    "    To learn how to set up an Azure AI Search resource,\n",
    "    visit https://learn.microsoft.com/azure/search/search-get-started-portal\n",
    "\n",
    "USAGE:\n",
    "    Before running the sample:\n",
    "    Set these environment variables with your own values:\n",
    "    1) AZURE_AISTUDIO_PROJECT_CONN_STRING - The project connection string, as found in the overview page of your\n",
    "       Azure AI Foundry project.\n",
    "    2) AZURE_OPENAI_GPT4o_DEPLOYMENT_NAME - The deployment name of the AI model, as found under the \"Name\" column in \n",
    "       the \"Models + endpoints\" tab in your Azure AI Foundry project.\n",
    "    3) AZURE_AI_SEARCH_CONNECTION_ID - The connection ID of the Azure AI Search resource, as found in the \"Connections\" tab\n",
    "\"\"\"\n",
    "import os\n",
    "from azure.ai.projects import AIProjectClient\n",
    "from azure.ai.agents.models import CodeInterpreterTool\n",
    "from azure.ai.agents.models import FunctionTool, ToolSet\n",
    "from azure.identity import DefaultAzureCredential\n",
    "from typing import Any, Callable, Set, Dict, List, Optional\n",
    "from pathlib import Path\n",
    "from dotenv import load_dotenv\n",
    "import pandas as pd\n",
    "from azure.identity import DefaultAzureCredential\n",
    "\n",
    "load_dotenv()\n",
    "AIFOUNDRY_AGENT_PROJECT_NAME = os.getenv(\"AIFOUNDRY_AGENT_PROJECT_NAME\")\n",
    "AIFOUNDRY_AGENT_MODEL_DEPLOYMENT_NAME = os.getenv(\"AIFOUNDRY_AGENT_MODEL_DEPLOYMENT_NAME\")\n",
    "\n",
    "project_client = AIProjectClient(\n",
    "    endpoint=AIFOUNDRY_AGENT_PROJECT_NAME,\n",
    "    credential=DefaultAzureCredential(),\n",
    ")\n",
    "\n",
    "try:\n",
    "    credential = DefaultAzureCredential()\n",
    "    token = credential.get_token(\"https://management.azure.com/.default\")\n",
    "except Exception as ex:\n",
    "    print(ex)"
   ]
  },
  {
   "cell_type": "code",
   "execution_count": 28,
   "metadata": {},
   "outputs": [],
   "source": [
    "#Define a function to be called by the agent as a custom tool\n",
    "import json\n",
    "\n",
    "def recent_snowfall(location: str) -> str:\n",
    "    \"\"\"\n",
    "    Fetches recent snowfall totals for a given location.\n",
    "    :param location: The city name.\n",
    "    :return: Snowfall details as a JSON string.\n",
    "    \"\"\"\n",
    "    mock_snow_data = {\"Seattle\": \"0 inches\", \"Denver\": \"2 inches\"}\n",
    "    snow = mock_snow_data.get(location, \"Data not available.\")\n",
    "    return json.dumps({\"location\": location, \"snowfall\": snow})\n",
    "\n",
    "user_functions: Set[Callable[..., Any]] = {\n",
    "    recent_snowfall,\n",
    "}"
   ]
  },
  {
   "cell_type": "code",
   "execution_count": 29,
   "metadata": {},
   "outputs": [
    {
     "name": "stdout",
     "output_type": "stream",
     "text": [
      "Created agent, agent ID: asst_fhmxey1iJuCgcgRCRSUIHsz9\n"
     ]
    }
   ],
   "source": [
    "agents_client = project_client.agents\n",
    "\n",
    "functions = FunctionTool(user_functions)\n",
    "toolset = ToolSet()\n",
    "toolset.add(functions)\n",
    "agents_client.enable_auto_function_calls(toolset)\n",
    "\n",
    "# Create your agent with the toolset\n",
    "agent = agents_client.create_agent(\n",
    "    model=AIFOUNDRY_AGENT_MODEL_DEPLOYMENT_NAME,\n",
    "    name=\"snowfall-agent\",\n",
    "    instructions=\"You are a weather assistant tracking snowfall. Use the provided functions to answer questions.\",\n",
    "    toolset=toolset\n",
    ")\n",
    "\n",
    "print(f\"Created agent, agent ID: {agent.id}\")"
   ]
  },
  {
   "cell_type": "code",
   "execution_count": 34,
   "metadata": {},
   "outputs": [],
   "source": [
    "# Create thread for communication\n",
    "def call_agent(agents_client, question):\n",
    "    thread = agents_client.threads.create()\n",
    "    print(f\"Created thread, thread ID: {thread.id}\")\n",
    "    \n",
    "    # Create message to thread\n",
    "    message = agents_client.messages.create(\n",
    "        thread_id=thread.id,\n",
    "        role=\"user\",\n",
    "        content=question\n",
    "    )\n",
    "    print(f\"Created message, ID: {message.id}\")\n",
    "\n",
    "    run = agents_client.runs.create_and_process(thread_id=thread.id, agent_id=agent.id)\n",
    "    print(f\"Run finished with status: {run.status}\")\n",
    "\n",
    "    if run.status == \"failed\":\n",
    "        # Check if you got \"Rate limit is exceeded.\", then you want to get more quota\n",
    "        print(f\"Run failed: {run.last_error}\")\n",
    "\n",
    "\n",
    "        # Fetch and log all messages\n",
    "    messages = agents_client.messages.list(thread_id=thread.id)\n",
    "    for msg in messages:\n",
    "        if msg.text_messages:\n",
    "            last_text = msg.text_messages[-1]\n",
    "            print(f\"{msg.role}: {last_text.text.value}\")\n",
    "\n",
    "    agents_client.delete_agent(agent.id)\n",
    "    print(\"Deleted agent\")"
   ]
  },
  {
   "cell_type": "code",
   "execution_count": null,
   "metadata": {},
   "outputs": [
    {
     "name": "stdout",
     "output_type": "stream",
     "text": [
      "Created thread, thread ID: thread_CCEu3LgblWhnL8xapR1oIN2G\n",
      "Created message, ID: msg_QPDRn6GT6tpBkPMAlwrM0LaZ\n",
      "Run finished with status: completed\n",
      "assistant: The recent snowfall in Seattle is 0 inches.\n",
      "user: What is the recent snowfall in Seattle?\n",
      "Deleted agent\n"
     ]
    }
   ],
   "source": [
    "# Send a prompt to the agent\n",
    "user_prompt = \"What is the recent snowfall in Seattle?\"\n",
    "call_agent(agents_client, user_prompt)"
   ]
  }
 ],
 "metadata": {
  "kernelspec": {
   "display_name": ".venv",
   "language": "python",
   "name": "python3"
  },
  "language_info": {
   "codemirror_mode": {
    "name": "ipython",
    "version": 3
   },
   "file_extension": ".py",
   "mimetype": "text/x-python",
   "name": "python",
   "nbconvert_exporter": "python",
   "pygments_lexer": "ipython3",
   "version": "3.10.11"
  }
 },
 "nbformat": 4,
 "nbformat_minor": 2
}
