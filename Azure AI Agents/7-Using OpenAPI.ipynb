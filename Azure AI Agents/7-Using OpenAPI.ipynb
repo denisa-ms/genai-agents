{
 "cells": [
  {
   "cell_type": "code",
   "execution_count": 1,
   "metadata": {},
   "outputs": [],
   "source": [
    "# ------------------------------------\n",
    "# Copyright (c) Microsoft Corporation.\n",
    "# Licensed under the MIT License.\n",
    "# ------------------------------------\n",
    "\n",
    "import os\n",
    "from azure.ai.projects import AIProjectClient\n",
    "from azure.ai.projects.models import OpenApiTool, OpenApiAnonymousAuthDetails\n",
    "from azure.identity import DefaultAzureCredential\n",
    "import jsonref\n",
    "from dotenv import load_dotenv\n",
    "\n",
    "load_dotenv()\n",
    "AZURE_OPENAI_ENDPOINT = os.getenv(\"AZURE_OPENAI_ENDPOINT\")\n",
    "AZURE_OPENAI_API_KEY = os.getenv(\"AZURE_OPENAI_API_KEY\")\n",
    "AZURE_OPENAI_GPT4o_DEPLOYMENT_NAME = os.getenv(\"AZURE_OPENAI_GPT4o_DEPLOYMENT_NAME\")\n",
    "AZURE_OPENAI_API_VERSION = os.getenv(\"AZURE_OPENAI_API_VERSION\")\n",
    "AZURE_AISTUDIO_PROJECT_CONN_STRING = os.getenv(\"AZURE_AISTUDIO_PROJECT_CONN_STRING\")"
   ]
  },
  {
   "cell_type": "code",
   "execution_count": 2,
   "metadata": {},
   "outputs": [],
   "source": [
    "# Create an Azure AI Client from a connection string, copied from your Azure AI Foundry project.\n",
    "# At the moment, it should be in the format \"<HostName>;<AzureSubscriptionId>;<ResourceGroup>;<HubName>\"\n",
    "# Customer needs to login to Azure subscription via Azure CLI and set the environment variables\n",
    "\n",
    "project_client = AIProjectClient.from_connection_string(\n",
    "    credential=DefaultAzureCredential(), \n",
    "    conn_str=AZURE_AISTUDIO_PROJECT_CONN_STRING\n",
    ")"
   ]
  },
  {
   "cell_type": "code",
   "execution_count": 3,
   "metadata": {},
   "outputs": [],
   "source": [
    "with open('./OpenAPI specs/weather_openapi.json', 'r') as f:\n",
    "    openapi_spec = jsonref.loads(f.read())\n",
    "\n",
    "# Create Auth object for the OpenApiTool (note that connection or managed identity auth setup requires additional setup in Azure)\n",
    "auth = OpenApiAnonymousAuthDetails()\n",
    "\n",
    "# Initialize agent OpenAPI tool using the read in OpenAPI spec\n",
    "openapi = OpenApiTool(name=\"get_weather\", spec=openapi_spec, description=\"Retrieve weather information for a location\", auth=auth)"
   ]
  },
  {
   "cell_type": "code",
   "execution_count": 4,
   "metadata": {},
   "outputs": [
    {
     "name": "stdout",
     "output_type": "stream",
     "text": [
      "Created agent, ID: asst_P2dJvgkdldzmo4LGlh6n2HHK\n",
      "Created thread, ID: thread_8fVGrnz7SsbmNKXkqEbjSg9W\n",
      "Created message, ID: msg_fKoYYlVg8q8C9td6Lla0Wn8c\n",
      "Run finished with status: completed\n",
      "Deleted agent\n",
      "Messages: {'object': 'list', 'data': [{'id': 'msg_G4uOQETO9ByxQ2FJVCB7llTK', 'object': 'thread.message', 'created_at': 1755168687, 'assistant_id': 'asst_P2dJvgkdldzmo4LGlh6n2HHK', 'thread_id': 'thread_8fVGrnz7SsbmNKXkqEbjSg9W', 'run_id': 'run_brKJOqyknxL8zwKuIz2Htf84', 'role': 'assistant', 'content': [{'type': 'text', 'text': {'value': 'The current weather in Seattle is:\\n\\n- **Condition:** Overcast  \\n- **Temperature:** 23°C (73°F)  \\n- **Feels Like:** 25°C (77°F)  \\n- **Humidity:** 59%  \\n- **Visibility:** 16 km (9 miles)  \\n- **Wind:** 4 km/h (2 mph) from the Southwest  \\n- **Precipitation:** None  \\n\\nLet me know if you need more details! 🌥️', 'annotations': []}}], 'attachments': [], 'metadata': {}}, {'id': 'msg_fKoYYlVg8q8C9td6Lla0Wn8c', 'object': 'thread.message', 'created_at': 1755168680, 'assistant_id': None, 'thread_id': 'thread_8fVGrnz7SsbmNKXkqEbjSg9W', 'run_id': None, 'role': 'user', 'content': [{'type': 'text', 'text': {'value': \"What's the weather in Seattle?\", 'annotations': []}}], 'attachments': [], 'metadata': {}}], 'first_id': 'msg_G4uOQETO9ByxQ2FJVCB7llTK', 'last_id': 'msg_fKoYYlVg8q8C9td6Lla0Wn8c', 'has_more': False}\n"
     ]
    }
   ],
   "source": [
    "# Create agent with OpenAPI tool and process assistant run\n",
    "with project_client:\n",
    "    agent = project_client.agents.create_agent(\n",
    "        model=\"gpt-4o\",\n",
    "        name=\"my-assistant\",\n",
    "        instructions=\"You are a helpful assistant\",\n",
    "        tools=openapi.definitions\n",
    "    )\n",
    "    print(f\"Created agent, ID: {agent.id}\")\n",
    "\n",
    "    # Create thread for communication\n",
    "    thread = project_client.agents.create_thread()\n",
    "    print(f\"Created thread, ID: {thread.id}\")\n",
    "    \n",
    "    # Create message to thread\n",
    "    message = project_client.agents.create_message(\n",
    "        thread_id=thread.id,\n",
    "        role=\"user\",\n",
    "        content=\"What's the weather in Seattle?\",\n",
    "    )\n",
    "    print(f\"Created message, ID: {message.id}\")\n",
    "\n",
    "    # Create and process agent run in thread with tools\n",
    "    run = project_client.agents.create_and_process_run(thread_id=thread.id, assistant_id=agent.id)\n",
    "    print(f\"Run finished with status: {run.status}\")\n",
    "\n",
    "    if run.status == \"failed\":\n",
    "        print(f\"Run failed: {run.last_error}\")\n",
    "\n",
    "    # Delete the assistant when done\n",
    "    project_client.agents.delete_agent(agent.id)\n",
    "    print(\"Deleted agent\")\n",
    "\n",
    "    # Fetch and log all messages\n",
    "    messages = project_client.agents.list_messages(thread_id=thread.id)\n",
    "    print(f\"Messages: {messages}\")"
   ]
  }
 ],
 "metadata": {
  "kernelspec": {
   "display_name": ".venv",
   "language": "python",
   "name": "python3"
  },
  "language_info": {
   "codemirror_mode": {
    "name": "ipython",
    "version": 3
   },
   "file_extension": ".py",
   "mimetype": "text/x-python",
   "name": "python",
   "nbconvert_exporter": "python",
   "pygments_lexer": "ipython3",
   "version": "3.10.11"
  }
 },
 "nbformat": 4,
 "nbformat_minor": 2
}
