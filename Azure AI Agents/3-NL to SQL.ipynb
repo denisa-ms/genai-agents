{
 "cells": [
  {
   "cell_type": "code",
   "execution_count": 1,
   "metadata": {},
   "outputs": [],
   "source": [
    "# ------------------------------------\n",
    "# Copyright (c) Microsoft Corporation.\n",
    "# Licensed under the MIT License.\n",
    "# ------------------------------------\n",
    "\n",
    "\"\"\"\n",
    "DESCRIPTION:\n",
    "    This sample demonstrates how to use agent operations with the \n",
    "    Azure AI Search tool from the Azure Agents service using a synchronous client.\n",
    "    To learn how to set up an Azure AI Search resource,\n",
    "    visit https://learn.microsoft.com/azure/search/search-get-started-portal\n",
    "\n",
    "USAGE:\n",
    "    Before running the sample:\n",
    "    Set these environment variables with your own values:\n",
    "    1) AZURE_AISTUDIO_PROJECT_CONN_STRING - The project connection string, as found in the overview page of your\n",
    "       Azure AI Foundry project.\n",
    "    2) AZURE_OPENAI_GPT4o_DEPLOYMENT_NAME - The deployment name of the AI model, as found under the \"Name\" column in \n",
    "       the \"Models + endpoints\" tab in your Azure AI Foundry project.\n",
    "    3) AZURE_AI_SEARCH_CONNECTION_ID - The connection ID of the Azure AI Search resource, as found in the \"Connections\" tab\n",
    "\"\"\"\n",
    "import os\n",
    "from azure.ai.projects import AIProjectClient\n",
    "from azure.ai.projects.models import CodeInterpreterTool, AzureAISearchTool, ConnectionType, FunctionTool, ToolSet\n",
    "from azure.identity import DefaultAzureCredential\n",
    "from typing import Any, Callable, Set, Dict, List, Optional\n",
    "from pathlib import Path\n",
    "from dotenv import load_dotenv\n",
    "import sqlite3\n",
    "import pandas as pd\n",
    "\n",
    "# Create an Azure AI Client from a connection string, copied from your Azure AI Foundry project.\n",
    "# At the moment, it should be in the format \"<HostName>;<AzureSubscriptionId>;<ResourceGroup>;<ProjectName>\"\n",
    "# HostName can be found by navigating to your discovery_url and removing the leading \"https://\" and trailing \"/discovery\"\n",
    "# To find your discovery_url, run the CLI command: az ml workspace show -n {project_name} --resource-group {resource_group_name} --query discovery_url\n",
    "# Project Connection example: eastus.api.azureml.ms;12345678-abcd-1234-9fc6-62780b3d3e05;my-resource-group;my-project-name\n",
    "# Customer needs to login to Azure subscription via Azure CLI and set the environment variables\n",
    "\n",
    "load_dotenv()\n",
    "AZURE_OPENAI_ENDPOINT = os.getenv(\"AZURE_OPENAI_ENDPOINT\")\n",
    "AZURE_OPENAI_API_KEY = os.getenv(\"AZURE_OPENAI_API_KEY\")\n",
    "AZURE_OPENAI_GPT4o_DEPLOYMENT_NAME = os.getenv(\"AZURE_OPENAI_GPT4o_DEPLOYMENT_NAME\")\n",
    "AZURE_OPENAI_API_VERSION = os.getenv(\"AZURE_OPENAI_API_VERSION\")\n",
    "AZURE_AISTUDIO_PROJECT_CONN_STRING = os.getenv(\"AZURE_AISTUDIO_PROJECT_CONN_STRING\")"
   ]
  },
  {
   "cell_type": "code",
   "execution_count": 2,
   "metadata": {},
   "outputs": [],
   "source": [
    "def get_conn(db_file: str) -> sqlite3.Connection:\n",
    "    return sqlite3.connect(db_file)\n",
    "\n",
    "def execute_query(conn: sqlite3.Connection, query: str) -> List[Any]:\n",
    "    cursor = conn.cursor()\n",
    "    return cursor.execute(query).fetchall()\n",
    "\n",
    "def execute_query_pd(conn: sqlite3.Connection, query: str) -> pd.DataFrame:\n",
    "    return pd.read_sql_query(query, conn)\n",
    "\n",
    "# Get a description of a table into a pandas dataframe\n",
    "def get_table_schema(conn: sqlite3.Connection, table_name: str) -> pd.DataFrame:\n",
    "    query = f\"PRAGMA table_info({table_name});\"\n",
    "    return pd.read_sql_query(query, conn)\n",
    "\n",
    "#Construct a description of the DB schema for the LLM by retrieving the\n",
    "# CREATE commands used to create the tables\n",
    "def get_db_creation_sql(conn: sqlite3.Connection) -> str:\n",
    "    cursor = conn.cursor()\n",
    "    query = \"SELECT sql FROM sqlite_master WHERE type='table'\"\n",
    "    results = cursor.execute(query).fetchall()\n",
    "    results = [col[0] for col in results]\n",
    "    schema_description = '\\n'.join(results)\n",
    "    return schema_description\n",
    "\n",
    "\n",
    "def get_tables_from_db(conn: sqlite3.Connection) -> List[str]:\n",
    "    cursor = conn.cursor()\n",
    "    cursor.execute(\"SELECT name FROM sqlite_master WHERE type='table';\")\n",
    "    return [x[0] for x in cursor.fetchall()]"
   ]
  },
  {
   "cell_type": "code",
   "execution_count": 3,
   "metadata": {},
   "outputs": [],
   "source": [
    "def read_from_db(sql_query:str) -> str:\n",
    "    \"\"\"\n",
    "    run the query on the database and return the result\n",
    "\n",
    "    :param sql_query (str): The sql to run on the database.\n",
    "    :return: The query result\n",
    "    \"\"\"\n",
    "    query_result = pd.read_sql_query(sql_query, conn)\n",
    "    return query_result.to_json()\n",
    "\n",
    "user_functions: Set[Callable[..., Any]] = {\n",
    "    read_from_db\n",
    "}"
   ]
  },
  {
   "cell_type": "code",
   "execution_count": 4,
   "metadata": {},
   "outputs": [],
   "source": [
    "from typing import List, Optional, Tuple\n",
    "import pandas as pd\n",
    "import json\n",
    "\n",
    "def get_schema_prompt(schema: str) -> str:\n",
    "    prompt = 'Below is the information for an SQLite table.'\n",
    "    prompt += f'Schema:\\n{schema}\\n\\n'\n",
    "    prompt += '\\n------------------------------------------------------\\n'\n",
    "    return prompt\n",
    "\n",
    "def get_prompt(schema: str) -> str:\n",
    "    prompt = get_schema_prompt(schema)\n",
    "    prompt += 'Below is a question input from a user. '\n",
    "    prompt += 'Generate an SQL query that pulls the necessary data to answer the question.\\n\\n'\n",
    "    return prompt\n",
    "\n",
    "def format_result(question: str, query: str, explanation: str, result: str) -> str:\n",
    "    return json.dumps(\n",
    "        {\n",
    "            'question': question,\n",
    "            'query': query,\n",
    "            'explanation': explanation,\n",
    "            'result': result\n",
    "        }, indent=4\n",
    "    )"
   ]
  },
  {
   "cell_type": "code",
   "execution_count": null,
   "metadata": {},
   "outputs": [
    {
     "name": "stdout",
     "output_type": "stream",
     "text": [
      "CREATE TABLE Authors (\n",
      "            id INTEGER PRIMARY KEY AUTOINCREMENT,\n",
      "            name TEXT NOT NULL,\n",
      "            biography TEXT\n",
      "        )\n",
      "CREATE TABLE sqlite_sequence(name,seq)\n",
      "CREATE TABLE Publishers (\n",
      "            d INTEGER PRIMARY KEY AUTOINCREMENT,\n",
      "            name TEXT NOT NULL,\n",
      "            address TEXT\n",
      "        )\n",
      "CREATE TABLE Books (\n",
      "            id INTEGER PRIMARY KEY AUTOINCREMENT,\n",
      "            title TEXT NOT NULL,\n",
      "            price REAL,\n",
      "            author_id INTEGER NOT NULL, FOREIGN KEY (author_id) REFERENCES Authors(id)\n",
      "        )\n",
      "Created agent, ID: asst_fLB4icxUln0xgp8Bby3Unwyj\n"
     ]
    }
   ],
   "source": [
    "database = 'bookstore.db'\n",
    "conn = sqlite3.connect(database)\n",
    "TABLE_NAME = 'Books'\n",
    "schema = get_db_creation_sql(conn)\n",
    "print(schema)\n",
    "\n",
    "project_client = AIProjectClient.from_connection_string(\n",
    "    credential=DefaultAzureCredential(),\n",
    "    conn_str=AZURE_AISTUDIO_PROJECT_CONN_STRING,\n",
    ")\n",
    "\n",
    "# with project_client:\n",
    "    # Initialize agent toolset with user functions and code interpreter\n",
    "functions = FunctionTool(user_functions)\n",
    "code_interpreter = CodeInterpreterTool()\n",
    "\n",
    "toolset = ToolSet()\n",
    "toolset.add(functions)\n",
    "toolset.add(code_interpreter)\n",
    "\n",
    "agent = project_client.agents.create_agent(\n",
    "    model=os.environ[\"AZURE_OPENAI_GPT4o_DEPLOYMENT_NAME\"],\n",
    "    name=\"sql-assistant\",\n",
    "    instructions=get_schema_prompt(schema),\n",
    "    toolset=toolset,\n",
    ")\n",
    "print(f\"Created agent, ID: {agent.id}\")"
   ]
  },
  {
   "cell_type": "code",
   "execution_count": 7,
   "metadata": {},
   "outputs": [],
   "source": [
    "# Create thread for communication\n",
    "def call_agent(question):\n",
    "    thread = project_client.agents.create_thread()\n",
    "    print(f\"Created thread, ID: {thread.id}\")\n",
    "\n",
    "    # Create message to thread\n",
    "    message = project_client.agents.create_message(\n",
    "        thread_id=thread.id,\n",
    "        role=\"user\",\n",
    "        content=question\n",
    "    )\n",
    "    print(f\"Created message, ID: {message.id}\")\n",
    "\n",
    "    # Create and process agent run in thread with tools\n",
    "    run = project_client.agents.create_and_process_run(thread_id=thread.id, assistant_id=agent.id)\n",
    "    print(f\"Run finished with status: {run.status}\")\n",
    "\n",
    "    if run.status == \"failed\":\n",
    "        print(f\"Run failed: {run.last_error}\")\n",
    "        # Fetch and log all messages\n",
    "        \n",
    "    messages = project_client.agents.list_messages(thread_id=thread.id)\n",
    "    print(f\"Messages: {messages}\")\n",
    "\n",
    "    # print(messages[\"data\"][0][\"content\"][0][\"text\"][\"value\"])\n",
    "    # Fetch and log all messages in chronological order\n",
    "    messages_data = messages[\"data\"]\n",
    "\n",
    "    # Sort messages by creation time (ascending)\n",
    "    sorted_messages = sorted(messages_data, key=lambda x: x[\"created_at\"])\n",
    "\n",
    "    print(\"\\n--- Thread Messages (sorted) ---\")\n",
    "    for msg in sorted_messages:\n",
    "        role = msg[\"role\"].upper()\n",
    "        # Each 'content' is a list; get the first text block if present\n",
    "        content_blocks = msg.get(\"content\", [])\n",
    "        text_value = \"\"\n",
    "        if content_blocks and content_blocks[0][\"type\"] == \"text\":\n",
    "            text_value = content_blocks[0][\"text\"][\"value\"]\n",
    "        print(f\"{role}: {text_value}\")"
   ]
  },
  {
   "cell_type": "code",
   "execution_count": 8,
   "metadata": {},
   "outputs": [
    {
     "name": "stdout",
     "output_type": "stream",
     "text": [
      "Created thread, ID: thread_WqlgVev80Wqu3qBiRmk95B6k\n",
      "Created message, ID: msg_fHQKjRjPie0o862jJRBKuAi3\n",
      "Run finished with status: completed\n",
      "Messages: {'object': 'list', 'data': [{'id': 'msg_IKA6IK2MvoFx4l0DMcYGUmSd', 'object': 'thread.message', 'created_at': 1739436998, 'assistant_id': 'asst_fLB4icxUln0xgp8Bby3Unwyj', 'thread_id': 'thread_WqlgVev80Wqu3qBiRmk95B6k', 'run_id': 'run_ZEdLUmsyBwB5md5M0wFDj02w', 'role': 'assistant', 'content': [{'type': 'text', 'text': {'value': 'The total number of books in the database is 12.', 'annotations': []}}], 'attachments': [], 'metadata': {}}, {'id': 'msg_fHQKjRjPie0o862jJRBKuAi3', 'object': 'thread.message', 'created_at': 1739436993, 'assistant_id': None, 'thread_id': 'thread_WqlgVev80Wqu3qBiRmk95B6k', 'run_id': None, 'role': 'user', 'content': [{'type': 'text', 'text': {'value': 'What is the total number of books in the database?', 'annotations': []}}], 'attachments': [], 'metadata': {}}], 'first_id': 'msg_IKA6IK2MvoFx4l0DMcYGUmSd', 'last_id': 'msg_fHQKjRjPie0o862jJRBKuAi3', 'has_more': False}\n",
      "\n",
      "--- Thread Messages (sorted) ---\n",
      "USER: What is the total number of books in the database?\n",
      "ASSISTANT: The total number of books in the database is 12.\n"
     ]
    }
   ],
   "source": [
    "call_agent(\"What is the total number of books in the database?\")"
   ]
  },
  {
   "cell_type": "code",
   "execution_count": 10,
   "metadata": {},
   "outputs": [
    {
     "name": "stdout",
     "output_type": "stream",
     "text": [
      "Created thread, ID: thread_791yWKJJ5wvriopuF8yrpkup\n",
      "Created message, ID: msg_N8lRQ8VUFCNrIAak5jfDcgf6\n",
      "Run finished with status: failed\n",
      "Run failed: {'code': 'rate_limit_exceeded', 'message': 'Rate limit is exceeded. Try again in 45 seconds.'}\n",
      "Messages: {'object': 'list', 'data': [{'id': 'msg_N8lRQ8VUFCNrIAak5jfDcgf6', 'object': 'thread.message', 'created_at': 1739437191, 'assistant_id': None, 'thread_id': 'thread_791yWKJJ5wvriopuF8yrpkup', 'run_id': None, 'role': 'user', 'content': [{'type': 'text', 'text': {'value': 'Draw a bar chart of the number of books published per author.', 'annotations': []}}], 'attachments': [], 'metadata': {}}], 'first_id': 'msg_N8lRQ8VUFCNrIAak5jfDcgf6', 'last_id': 'msg_N8lRQ8VUFCNrIAak5jfDcgf6', 'has_more': False}\n",
      "\n",
      "--- Thread Messages (sorted) ---\n",
      "USER: Draw a bar chart of the number of books published per author.\n"
     ]
    }
   ],
   "source": [
    "call_agent(\"Draw a bar chart of the number of books published per author.\")"
   ]
  },
  {
   "cell_type": "code",
   "execution_count": null,
   "metadata": {},
   "outputs": [],
   "source": [
    "# Delete the agent when done\n",
    "project_client.agents.delete_agent(agent.id)\n",
    "print(\"Deleted agent\")"
   ]
  }
 ],
 "metadata": {
  "kernelspec": {
   "display_name": ".venv",
   "language": "python",
   "name": "python3"
  },
  "language_info": {
   "codemirror_mode": {
    "name": "ipython",
    "version": 3
   },
   "file_extension": ".py",
   "mimetype": "text/x-python",
   "name": "python",
   "nbconvert_exporter": "python",
   "pygments_lexer": "ipython3",
   "version": "3.10.11"
  }
 },
 "nbformat": 4,
 "nbformat_minor": 2
}
