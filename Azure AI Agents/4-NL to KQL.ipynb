{
 "cells": [
  {
   "cell_type": "code",
   "execution_count": 1,
   "metadata": {},
   "outputs": [],
   "source": [
    "# ------------------------------------\n",
    "# Copyright (c) Microsoft Corporation.\n",
    "# Licensed under the MIT License.\n",
    "# ------------------------------------\n",
    "\n",
    "\"\"\"\n",
    "DESCRIPTION:\n",
    "    This sample demonstrates how to use agent operations with the \n",
    "    Azure AI Search tool from the Azure Agents service using a synchronous client.\n",
    "    To learn how to set up an Azure AI Search resource,\n",
    "    visit https://learn.microsoft.com/azure/search/search-get-started-portal\n",
    "\n",
    "USAGE:\n",
    "    Before running the sample:\n",
    "    Set these environment variables with your own values:\n",
    "    1) AZURE_AISTUDIO_PROJECT_CONN_STRING - The project connection string, as found in the overview page of your\n",
    "       Azure AI Foundry project.\n",
    "    2) AZURE_OPENAI_GPT4o_DEPLOYMENT_NAME - The deployment name of the AI model, as found under the \"Name\" column in \n",
    "       the \"Models + endpoints\" tab in your Azure AI Foundry project.\n",
    "    3) AZURE_AI_SEARCH_CONNECTION_ID - The connection ID of the Azure AI Search resource, as found in the \"Connections\" tab\n",
    "\"\"\"\n",
    "import os\n",
    "from azure.ai.projects import AIProjectClient\n",
    "from azure.ai.projects.models import CodeInterpreterTool, AzureAISearchTool, ConnectionType, FunctionTool, ToolSet\n",
    "from azure.identity import DefaultAzureCredential\n",
    "from typing import Any, Callable, Set, Dict, List, Optional\n",
    "from pathlib import Path\n",
    "from dotenv import load_dotenv\n",
    "import pandas as pd\n",
    "from azure.kusto.data import KustoClient, KustoConnectionStringBuilder\n",
    "from azure.kusto.data.exceptions import KustoServiceError\n",
    "from azure.kusto.data.helpers import dataframe_from_result_table\n",
    "from azure.identity import DefaultAzureCredential\n",
    "\n",
    "load_dotenv()\n",
    "AZURE_OPENAI_GPT4o_DEPLOYMENT_NAME = \"gpt-4o\"\n",
    "AZURE_AISTUDIO_PROJECT_CONN_STRING = os.getenv(\"NL_TO_KQL_AZURE_AISTUDIO_PROJECT_CONN_STRING\")\n",
    "\n",
    "project_client = AIProjectClient.from_connection_string(\n",
    "    credential=DefaultAzureCredential(),\n",
    "    conn_str=AZURE_AISTUDIO_PROJECT_CONN_STRING,\n",
    ")\n",
    "\n",
    "KUSTO_URI = os.getenv(\"NL_TO_KQL_KUSTO_URI\")\n",
    "KUSTO_DATABASE = os.getenv(\"NL_TO_KQL_KUSTO_DATABASE\")\n",
    "KUSTO_TABLE = os.getenv(\"NL_TO_KQL_KUSTO_TABLE\")\n",
    "\n",
    "try:\n",
    "    credential = DefaultAzureCredential()\n",
    "    token = credential.get_token(\"https://management.azure.com/.default\")\n",
    "except Exception as ex:\n",
    "    print(ex)"
   ]
  },
  {
   "cell_type": "code",
   "execution_count": 2,
   "metadata": {},
   "outputs": [
    {
     "name": "stdout",
     "output_type": "stream",
     "text": [
      "Data Source=https://trd-0gy3f5j482jxjzk4xj.z4.kusto.fabric.microsoft.com;Initial Catalog=NetDefaultDB;AAD Federated Security=True;Authority Id=organizations;AZ CLI=True\n"
     ]
    }
   ],
   "source": [
    "from azure.kusto.data import KustoClient, KustoConnectionStringBuilder\n",
    "from azure.kusto.data.exceptions import KustoServiceError\n",
    "from azure.kusto.data.helpers import dataframe_from_result_table\n",
    "\n",
    "kcsb = KustoConnectionStringBuilder.with_az_cli_authentication(KUSTO_URI)\n",
    "print(kcsb)\n",
    "client = KustoClient(kcsb)\n",
    "kusto_db = KUSTO_DATABASE"
   ]
  },
  {
   "cell_type": "code",
   "execution_count": 3,
   "metadata": {},
   "outputs": [],
   "source": [
    "def execute_query(kusto_query: str):\n",
    "    response = client.execute(kusto_db, kusto_query)\n",
    "    df = dataframe_from_result_table(response.primary_results[0])\n",
    "    df\n",
    "    return df\n",
    "\n",
    "\n",
    "def get_table_creation_kql() -> str:\n",
    "    table_schema = \".create-merge table Stocks (Date:datetime, Open:real, High:real, Low:real, Close:real, AdjClose:real, Volume:string, Ticker:string) \"\n",
    "    return table_schema"
   ]
  },
  {
   "cell_type": "code",
   "execution_count": 4,
   "metadata": {},
   "outputs": [],
   "source": [
    "from string import Template\n",
    "\n",
    "def load_template(filename: str) -> Template:\n",
    "    file = open(filename, \"r\")\n",
    "    content = file.read()\n",
    "    file.close()\n",
    "    template = Template(content)\n",
    "    return template"
   ]
  },
  {
   "cell_type": "code",
   "execution_count": 9,
   "metadata": {},
   "outputs": [],
   "source": [
    "def get_schema_prompt() -> str:\n",
    "    tbl_creation_kql = get_table_creation_kql()\n",
    "    template_file_name = \"./prompts/schema_prompt.txt\"\n",
    "    template = load_template(template_file_name)\n",
    "    prompt = template.substitute(tbl_creation_kql=tbl_creation_kql)\n",
    "    return prompt"
   ]
  },
  {
   "cell_type": "code",
   "execution_count": 10,
   "metadata": {},
   "outputs": [
    {
     "name": "stdout",
     "output_type": "stream",
     "text": [
      "Created agent, ID: asst_tfniYmnGChpsv6oVmeCrIp9K\n"
     ]
    }
   ],
   "source": [
    "def read_from_db(kql_query:str) -> str:\n",
    "    \"\"\"\n",
    "    run the query on the database and return the result\n",
    "\n",
    "    :param kql_query (str): The kql to run on the database.\n",
    "    :return: The query result\n",
    "    \"\"\"\n",
    "    query_result = execute_query(kql_query)\n",
    "    return query_result.to_json()\n",
    "\n",
    "user_functions: Set[Callable[..., Any]] = {\n",
    "    read_from_db\n",
    "}\n",
    "\n",
    "# Initialize agent toolset with user functions and code interpreter\n",
    "functions = FunctionTool(user_functions)\n",
    "code_interpreter = CodeInterpreterTool()\n",
    "\n",
    "toolset = ToolSet()\n",
    "toolset.add(functions)\n",
    "toolset.add(code_interpreter)\n",
    "\n",
    "agent = project_client.agents.create_agent(\n",
    "    model=AZURE_OPENAI_GPT4o_DEPLOYMENT_NAME,\n",
    "    name=\"kql-assistant\",\n",
    "    instructions=get_schema_prompt(),\n",
    "    toolset=toolset,\n",
    ")\n",
    "print(f\"Created agent, ID: {agent.id}\")"
   ]
  },
  {
   "cell_type": "code",
   "execution_count": 11,
   "metadata": {},
   "outputs": [],
   "source": [
    "# Create thread for communication\n",
    "def call_agent(question):\n",
    "    thread = project_client.agents.create_thread()\n",
    "    print(f\"Created thread, ID: {thread.id}\")\n",
    "\n",
    "    # Create message to thread\n",
    "    message = project_client.agents.create_message(\n",
    "        thread_id=thread.id,\n",
    "        role=\"user\",\n",
    "        content=question\n",
    "    )\n",
    "    print(f\"Created message, ID: {message.id}\")\n",
    "\n",
    "    # Create and process agent run in thread with tools\n",
    "    run = project_client.agents.create_and_process_run(thread_id=thread.id, assistant_id=agent.id)\n",
    "    print(f\"Run finished with status: {run.status}\")\n",
    "\n",
    "    if run.status == \"failed\":\n",
    "        print(f\"Run failed: {run.last_error}\")\n",
    "        # Fetch and log all messages\n",
    "        \n",
    "    messages = project_client.agents.list_messages(thread_id=thread.id)\n",
    "    print(f\"Messages: {messages}\")\n",
    "\n",
    "    # print(messages[\"data\"][0][\"content\"][0][\"text\"][\"value\"])\n",
    "    # Fetch and log all messages in chronological order\n",
    "    messages_data = messages[\"data\"]\n",
    "\n",
    "    # Sort messages by creation time (ascending)\n",
    "    sorted_messages = sorted(messages_data, key=lambda x: x[\"created_at\"])\n",
    "\n",
    "    print(\"\\n--- Thread Messages (sorted) ---\")\n",
    "    for msg in sorted_messages:\n",
    "        role = msg[\"role\"].upper()\n",
    "        # Each 'content' is a list; get the first text block if present\n",
    "        content_blocks = msg.get(\"content\", [])\n",
    "        text_value = \"\"\n",
    "        if content_blocks and content_blocks[0][\"type\"] == \"text\":\n",
    "            text_value = content_blocks[0][\"text\"][\"value\"]\n",
    "        print(f\"{role}: {text_value}\")"
   ]
  },
  {
   "cell_type": "code",
   "execution_count": 12,
   "metadata": {},
   "outputs": [
    {
     "name": "stdout",
     "output_type": "stream",
     "text": [
      "Created thread, ID: thread_pYHDwG64mE404g2NwnWtntnw\n",
      "Created message, ID: msg_IlFyIWhi3hsfbBwGXarmPHyg\n",
      "Run finished with status: completed\n",
      "Messages: {'object': 'list', 'data': [{'id': 'msg_taxAoMsIFrwsYX4M0uP2hRsx', 'object': 'thread.message', 'created_at': 1739808898, 'assistant_id': 'asst_tfniYmnGChpsv6oVmeCrIp9K', 'thread_id': 'thread_pYHDwG64mE404g2NwnWtntnw', 'run_id': 'run_7qDxRnRPMSKvUz1YVFC4G78r', 'role': 'assistant', 'content': [{'type': 'text', 'text': {'value': \"Here is the average closing price for each stock symbol in February 2013:\\n\\n- AAPL: $16.31\\n- ABBV: $36.67\\n- ABC: $46.66\\n- ABT: $34.29\\n- ACGL: $15.99\\n- AEE: $33.09\\n- AEP: $45.33\\n- AFL: $25.11\\n- AIG: $38.36\\n- AIZ: $40.35\\n- AJG: $38.28\\n- AKAM: $37.78\\n- ALB: $63.73\\n- ALL: $45.55\\n- AMAT: $13.54\\n- AMCR: $9.32\\n- AMD: $2.62\\n- AMGN: $86.43\\n- AMP: $67.34\\n- AMT: $75.50\\n- AMZN: $13.18\\n- ANSS: $75.23\\n- AON: $57.82\\n- APA: $79.77\\n- APD: $80.73\\n- APTV: $33.00\\n- ARE: $71.96\\n- ATVI: $13.50\\n- ATO: $37.85\\n- AVB: $128.11\\n- AVGO: $34.80\\n- AVY: $39.47\\n- AWK: $39.12\\n- AXP: $61.67\\n- AZO: $377.33\\n- BAC: $11.71\\n- BA: $75.78\\n- BALL: $22.42\\n- BAX: $36.96\\n- BBY: $16.26\\n- BBWI: $36.44\\n- BDX: $85.49\\n- BEN: $47.17\\n- BF.B: $26.11\\n- BHGE: $66.34\\n- BIIB: $163.11\\n- BK: $27.62\\n- BLK: $239.32\\n- BMY: $36.67\\n- BRK.B: $98.93\\n- BSX: $7.48\\n- BWA: $37.31\\n- BXP: $105.41\\n- CAH: $45.38\\n- CAG: $26.07\\n- CB: $85.89\\n- CBOE: $35.03\\n\\nThe list is truncated for brevity. If you're interested in a specific stock, feel free to ask!\", 'annotations': []}}], 'attachments': [], 'metadata': {}}, {'id': 'msg_IlFyIWhi3hsfbBwGXarmPHyg', 'object': 'thread.message', 'created_at': 1739808892, 'assistant_id': None, 'thread_id': 'thread_pYHDwG64mE404g2NwnWtntnw', 'run_id': None, 'role': 'user', 'content': [{'type': 'text', 'text': {'value': 'What is the average price for each stock symbol in the February 2013?', 'annotations': []}}], 'attachments': [], 'metadata': {}}], 'first_id': 'msg_taxAoMsIFrwsYX4M0uP2hRsx', 'last_id': 'msg_IlFyIWhi3hsfbBwGXarmPHyg', 'has_more': False}\n",
      "\n",
      "--- Thread Messages (sorted) ---\n",
      "USER: What is the average price for each stock symbol in the February 2013?\n",
      "ASSISTANT: Here is the average closing price for each stock symbol in February 2013:\n",
      "\n",
      "- AAPL: $16.31\n",
      "- ABBV: $36.67\n",
      "- ABC: $46.66\n",
      "- ABT: $34.29\n",
      "- ACGL: $15.99\n",
      "- AEE: $33.09\n",
      "- AEP: $45.33\n",
      "- AFL: $25.11\n",
      "- AIG: $38.36\n",
      "- AIZ: $40.35\n",
      "- AJG: $38.28\n",
      "- AKAM: $37.78\n",
      "- ALB: $63.73\n",
      "- ALL: $45.55\n",
      "- AMAT: $13.54\n",
      "- AMCR: $9.32\n",
      "- AMD: $2.62\n",
      "- AMGN: $86.43\n",
      "- AMP: $67.34\n",
      "- AMT: $75.50\n",
      "- AMZN: $13.18\n",
      "- ANSS: $75.23\n",
      "- AON: $57.82\n",
      "- APA: $79.77\n",
      "- APD: $80.73\n",
      "- APTV: $33.00\n",
      "- ARE: $71.96\n",
      "- ATVI: $13.50\n",
      "- ATO: $37.85\n",
      "- AVB: $128.11\n",
      "- AVGO: $34.80\n",
      "- AVY: $39.47\n",
      "- AWK: $39.12\n",
      "- AXP: $61.67\n",
      "- AZO: $377.33\n",
      "- BAC: $11.71\n",
      "- BA: $75.78\n",
      "- BALL: $22.42\n",
      "- BAX: $36.96\n",
      "- BBY: $16.26\n",
      "- BBWI: $36.44\n",
      "- BDX: $85.49\n",
      "- BEN: $47.17\n",
      "- BF.B: $26.11\n",
      "- BHGE: $66.34\n",
      "- BIIB: $163.11\n",
      "- BK: $27.62\n",
      "- BLK: $239.32\n",
      "- BMY: $36.67\n",
      "- BRK.B: $98.93\n",
      "- BSX: $7.48\n",
      "- BWA: $37.31\n",
      "- BXP: $105.41\n",
      "- CAH: $45.38\n",
      "- CAG: $26.07\n",
      "- CB: $85.89\n",
      "- CBOE: $35.03\n",
      "\n",
      "The list is truncated for brevity. If you're interested in a specific stock, feel free to ask!\n"
     ]
    }
   ],
   "source": [
    "call_agent(\"What is the average price for each stock symbol in the February 2013?\")"
   ]
  },
  {
   "cell_type": "code",
   "execution_count": 13,
   "metadata": {},
   "outputs": [
    {
     "name": "stdout",
     "output_type": "stream",
     "text": [
      "Deleted agent\n"
     ]
    }
   ],
   "source": [
    "# Delete the agent when done\n",
    "project_client.agents.delete_agent(agent.id)\n",
    "print(\"Deleted agent\")"
   ]
  }
 ],
 "metadata": {
  "kernelspec": {
   "display_name": ".venv",
   "language": "python",
   "name": "python3"
  },
  "language_info": {
   "codemirror_mode": {
    "name": "ipython",
    "version": 3
   },
   "file_extension": ".py",
   "mimetype": "text/x-python",
   "name": "python",
   "nbconvert_exporter": "python",
   "pygments_lexer": "ipython3",
   "version": "3.10.11"
  }
 },
 "nbformat": 4,
 "nbformat_minor": 2
}
