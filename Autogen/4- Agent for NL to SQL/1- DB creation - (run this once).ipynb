{
 "cells": [
  {
   "cell_type": "markdown",
   "metadata": {},
   "source": [
    "This notebook builds a sample DB for a bookstore using SQLite."
   ]
  },
  {
   "cell_type": "code",
   "execution_count": 2,
   "metadata": {},
   "outputs": [],
   "source": [
    "from typing import Annotated\n",
    "import sqlite3"
   ]
  },
  {
   "cell_type": "code",
   "execution_count": 8,
   "metadata": {},
   "outputs": [],
   "source": [
    "# Let's create an SQL lite database with sample data\n",
    "def create_table(cursor, create_table_sql):\n",
    "    \"\"\" Execute a SQL statement to create a table. \"\"\"\n",
    "    cursor.execute(create_table_sql)\n",
    "\n",
    "def insert_data(cursor, insert_sql, data):\n",
    "    \"\"\" Insert data into a table using the provided SQL statement. \"\"\"\n",
    "    cursor.executemany(insert_sql, data)\n",
    "\n",
    "\n",
    "database = 'bookstore.db'\n",
    "\n",
    "with sqlite3.connect(database) as conn:\n",
    "    cursor = conn.cursor()\n",
    "\n",
    "     # Create the Authors table\n",
    "    sql_create_authors_table = \"\"\"\n",
    "        CREATE TABLE IF NOT EXISTS Authors (\n",
    "            id INTEGER PRIMARY KEY AUTOINCREMENT,\n",
    "            name TEXT NOT NULL,\n",
    "            biography TEXT\n",
    "        );\"\"\"\n",
    "    create_table(cursor, sql_create_authors_table)\n",
    "\n",
    "    # Create the Publishers table\n",
    "    sql_create_publishers_table = \"\"\"\n",
    "        CREATE TABLE IF NOT EXISTS Publishers (\n",
    "            d INTEGER PRIMARY KEY AUTOINCREMENT,\n",
    "            name TEXT NOT NULL,\n",
    "            address TEXT\n",
    "        );\"\"\"\n",
    "    create_table(cursor, sql_create_publishers_table)\n",
    "\n",
    "# CREATE TABLE suppliers (\n",
    "#     supplier_id   INTEGER PRIMARY KEY,\n",
    "#     supplier_name TEXT    NOT NULL,\n",
    "#     group_id      INTEGER,\n",
    "#     FOREIGN KEY (group_id)\n",
    "#     REFERENCES supplier_groups (group_id) \n",
    "#        ON UPDATE SET NULL\n",
    "#        ON DELETE SET NULL\n",
    "# );\n",
    "\n",
    "    # Create the Books table\n",
    "    sql_create_books_table = \"\"\"\n",
    "        CREATE TABLE IF NOT EXISTS Books (\n",
    "            id INTEGER PRIMARY KEY AUTOINCREMENT,\n",
    "            title TEXT NOT NULL,\n",
    "            price REAL,\n",
    "            author_id INTEGER NOT NULL, FOREIGN KEY (author_id) REFERENCES Authors(id)\n",
    "        ); \"\"\"\n",
    "    create_table(cursor, sql_create_books_table)\n",
    "\n",
    "\n",
    "    # Insert sample data into Authors table\n",
    "    insert_authors_sql = \"INSERT INTO Authors (name, biography) VALUES (?, ?)\"\n",
    "    authors_data = [\n",
    "        ('Harper Lee', 'Author of To Kill a Mockingbird'),\n",
    "        ('George Orwell', 'Author of 1984')\n",
    "    ]\n",
    "    insert_data(cursor, insert_authors_sql, authors_data)\n",
    "    \n",
    "\n",
    "    # Insert sample data into Books table\n",
    "    insert_books_sql = \"INSERT INTO Books (title, author_id, price) VALUES (?, ?, ?)\"\n",
    "    books_data = [\n",
    "            ('To Kill a Mockingbird', 1, 10.99),\n",
    "            ('1984', 2, 8.99)\n",
    "        ]\n",
    "    insert_data(cursor, insert_books_sql, books_data)\n",
    "\n",
    "\n",
    "    conn.commit()\n",
    "    cursor.close()"
   ]
  }
 ],
 "metadata": {
  "kernelspec": {
   "display_name": ".venv",
   "language": "python",
   "name": "python3"
  },
  "language_info": {
   "codemirror_mode": {
    "name": "ipython",
    "version": 3
   },
   "file_extension": ".py",
   "mimetype": "text/x-python",
   "name": "python",
   "nbconvert_exporter": "python",
   "pygments_lexer": "ipython3",
   "version": "3.10.11"
  }
 },
 "nbformat": 4,
 "nbformat_minor": 2
}
