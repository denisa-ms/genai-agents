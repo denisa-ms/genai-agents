{
 "cells": [
  {
   "cell_type": "code",
   "execution_count": 1,
   "metadata": {},
   "outputs": [],
   "source": [
    "import json\n",
    "import os\n",
    "from typing import Annotated, Dict\n",
    "\n",
    "from autogen import ConversableAgent, UserProxyAgent, AssistantAgent, config_list_from_json\n",
    "from dotenv import load_dotenv\n",
    "import autogen\n",
    "from typing import Annotated\n",
    "from openai import AzureOpenAI\n",
    "\n",
    "\n",
    "load_dotenv()\n",
    "AZURE_OPENAI_ENDPOINT=os.getenv(\"AISTUDIO_AZURE_OPENAI_ENDPOINT\")\n",
    "AZURE_OPENAI_GPT4o_DEPLOYMENT=os.getenv(\"AI_STUDIO_AZURE_OPENAI_GPT4o_DEPLOYMENT\")\n",
    "AZURE_OPENAI_API_VERSION=\"2024-02-01\"\n",
    "AZURE_OPENAI_KEY=os.getenv(\"AISTUDIO_AZURE_OPENAI_KEY\")\n",
    "OPENAI_ADA_EMBEDDING_DEPLOYMENT_NAME = os.getenv(\"OPENAI_ADA_EMBEDDING_DEPLOYMENT_NAME\")\n"
   ]
  },
  {
   "cell_type": "code",
   "execution_count": 2,
   "metadata": {},
   "outputs": [],
   "source": [
    "llm = AzureOpenAI(\n",
    "        azure_endpoint=AZURE_OPENAI_ENDPOINT,\n",
    "        api_key=AZURE_OPENAI_KEY,\n",
    "        api_version=AZURE_OPENAI_API_VERSION\n",
    ")"
   ]
  },
  {
   "cell_type": "code",
   "execution_count": 3,
   "metadata": {},
   "outputs": [],
   "source": [
    "llm_config = {\n",
    "    \"cache_seed\": 45,  # change the cache_seed for different trials\n",
    "    \"temperature\": 0,\n",
    "    \"timeout\": 120,  # in seconds\n",
    "    \"config_list\": \n",
    "    [\n",
    "        {\n",
    "            \"model\": AZURE_OPENAI_GPT4o_DEPLOYMENT,\n",
    "            \"api_type\": \"azure\",\n",
    "            \"api_key\": AZURE_OPENAI_KEY,\n",
    "            \"base_url\": AZURE_OPENAI_ENDPOINT,\n",
    "            \"api_version\": AZURE_OPENAI_API_VERSION\n",
    "        }\n",
    "    ]\n",
    "}"
   ]
  },
  {
   "cell_type": "code",
   "execution_count": 4,
   "metadata": {},
   "outputs": [],
   "source": [
    "assistant = autogen.AssistantAgent(\n",
    "        name=\"Assistant\",\n",
    "        llm_config=llm_config\n",
    "    )\n",
    "\n",
    "user_proxy = autogen.UserProxyAgent(\n",
    "    name=\"user\",\n",
    "    human_input_mode=\"ALWAYS\",\n",
    "    code_execution_config={\n",
    "        \"work_dir\": \"coding\",\n",
    "        \"use_docker\": False\n",
    "    }\n",
    ")"
   ]
  },
  {
   "cell_type": "code",
   "execution_count": null,
   "metadata": {},
   "outputs": [
    {
     "name": "stdout",
     "output_type": "stream",
     "text": [
      "\u001b[33muser\u001b[0m (to Assistant):\n",
      "\n",
      "Plot a chart of META and TESLA stock price change.\n",
      "\n",
      "--------------------------------------------------------------------------------\n",
      "\u001b[33mAssistant\u001b[0m (to user):\n",
      "\n",
      "To plot a chart of META and TESLA stock price changes, we need to follow these steps:\n",
      "\n",
      "1. Collect the stock price data for META and TESLA.\n",
      "2. Process the data to calculate the price changes.\n",
      "3. Plot the data using a suitable library like Matplotlib.\n",
      "\n",
      "We will use the `yfinance` library to fetch the stock data. If you don't have it installed, the script will include the installation step.\n",
      "\n",
      "Here is the complete Python script to achieve this:\n",
      "\n",
      "```python\n",
      "# filename: plot_stock_prices.py\n",
      "\n",
      "import yfinance as yf\n",
      "import matplotlib.pyplot as plt\n",
      "\n",
      "# Define the stock symbols\n",
      "stocks = ['META', 'TSLA']\n",
      "\n",
      "# Fetch the stock data for the past year\n",
      "data = yf.download(stocks, start='2022-01-01', end='2023-01-01')\n",
      "\n",
      "# Calculate the daily percentage change\n",
      "data_pct_change = data['Adj Close'].pct_change() * 100\n",
      "\n",
      "# Plot the data\n",
      "plt.figure(figsize=(14, 7))\n",
      "for stock in stocks:\n",
      "    plt.plot(data_pct_change[stock], label=stock)\n",
      "\n",
      "plt.title('Daily Percentage Change in Stock Prices of META and TESLA')\n",
      "plt.xlabel('Date')\n",
      "plt.ylabel('Percentage Change')\n",
      "plt.legend()\n",
      "plt.grid(True)\n",
      "plt.show()\n",
      "```\n",
      "\n",
      "Please save the code in a file named `plot_stock_prices.py` and execute it. This script will fetch the stock data for META and TESLA for the past year, calculate the daily percentage change, and plot the data.\n",
      "\n",
      "--------------------------------------------------------------------------------\n"
     ]
    }
   ],
   "source": [
    "user_proxy.initiate_chat(assistant, message=\"Plot a chart of META and TESLA stock price change.\", max_turns=10)"
   ]
  }
 ],
 "metadata": {
  "kernelspec": {
   "display_name": ".venv",
   "language": "python",
   "name": "python3"
  },
  "language_info": {
   "codemirror_mode": {
    "name": "ipython",
    "version": 3
   },
   "file_extension": ".py",
   "mimetype": "text/x-python",
   "name": "python",
   "nbconvert_exporter": "python",
   "pygments_lexer": "ipython3",
   "version": "3.10.11"
  }
 },
 "nbformat": 4,
 "nbformat_minor": 2
}
